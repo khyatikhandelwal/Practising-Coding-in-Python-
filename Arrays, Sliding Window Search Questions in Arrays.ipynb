{
 "cells": [
  {
   "cell_type": "markdown",
   "id": "4736f541",
   "metadata": {},
   "source": [
    "## Let's talk Arrays\n",
    "\n",
    "In Python, a List is a class in Python that stores values in the form of integers, decimals, strings, or other lists. It is imporant because it allows an easy \"random access\" of items if we know the index position of the item. It is also a relatively easy data structure to wrap your head around (imo)!\n",
    "\n",
    "Some important things to keep in mind: \n",
    "\n",
    "\n",
    "- We can add an element to the end of an arraywith O(1) complexity if the array is not full. (If you don't know yet, read more about complexity in this great medium article: https://medium.com/fintechexplained/time-complexities-of-python-data-structures-ddb7503790ef ) However, if the array is full, the entire value of the array must be shifted to add an extra element, hence adding an element comes with O(N) complexity in that case. \n",
    "  \n",
    "  Notice that here we can see a clear trade-off between time and space complexity as if we initially store a large size array using higher space complexity, accessing its elements becomes easier with O(1) complexity and vice versa.\n",
    "  \n",
    "  \n",
    "- We can insert an element with O(n) complexity (worst case) as we will have to shift all the values of the array one position below in order to accomodate for the new position of the new element. \n",
    "\n",
    "\n",
    "- While removing items, if the last item needs to be removed, it is very convenient as it can be simply done in O(1) time complexity. However, if an arbitrary indexed item needs to be removed, it will tak eO(n) complexity as the other items will have to be shifted in position, and the indexed item will also have to be searched for in the array. "
   ]
  },
  {
   "cell_type": "code",
   "execution_count": 2,
   "id": "5e0e8039",
   "metadata": {},
   "outputs": [
    {
     "name": "stdout",
     "output_type": "stream",
     "text": [
      "Hi! I am an array. I look like this: [1, 2, 5, 6, 7, 0]\n"
     ]
    }
   ],
   "source": [
    "arr = [1,2,5,6,7,0]\n",
    "print(f\"Hi! I am an array. I look like this: {arr}\")"
   ]
  },
  {
   "cell_type": "markdown",
   "id": "45d1eebc",
   "metadata": {},
   "source": [
    "### In this notebook \n",
    "we will first discuss a few basic coding exercises (courtesy: Leetcode, Udemy, Educative.io) in arrays that will help us move forward with more complex (read: sliding window;)) questions. Feel free to skip these if you are already familiar!"
   ]
  },
  {
   "cell_type": "markdown",
   "id": "c1189380",
   "metadata": {},
   "source": [
    "#### 1. Ways to reverse a list (read: string) in Python"
   ]
  },
  {
   "cell_type": "code",
   "execution_count": 3,
   "id": "d515c3a0",
   "metadata": {},
   "outputs": [],
   "source": [
    "## Let's first do it in the most \"Pythonic\" way, i.e., by using index slicing\n",
    "\n",
    "def reverse_1(array):\n",
    "    print(\"My time complexity is simply O(n) as I am kinda making a copy of the data given to me of that same length\")\n",
    "    return array[::-1]    \n",
    "\n",
    "## Here, we are simply returning the given string, by traversing the entire string (hence the [::])\n",
    "## from the last position to the first (hence the -1)"
   ]
  },
  {
   "cell_type": "code",
   "execution_count": 4,
   "id": "08fde87e",
   "metadata": {},
   "outputs": [
    {
     "name": "stdout",
     "output_type": "stream",
     "text": [
      "My time complexity is simply O(n) as I am kinda making a copy of the data given to me of that same length\n"
     ]
    },
    {
     "data": {
      "text/plain": [
       "[5, 4, 3, 2, 1]"
      ]
     },
     "execution_count": 4,
     "metadata": {},
     "output_type": "execute_result"
    }
   ],
   "source": [
    "reverse_1([1,2,3,4,5])"
   ]
  },
  {
   "cell_type": "code",
   "execution_count": 5,
   "id": "6f83e6dd",
   "metadata": {},
   "outputs": [],
   "source": [
    "## Now let's try a different way: \n",
    "## lets define two indices: one at the first element of give array, one pointing to the last element\n",
    "## we will just keep switching the elements of the first index with the last one\n",
    "## while continuing to increment the first index and decrement the last index till we reach the middle of the array!\n",
    "\n",
    "def reverse_2(array):\n",
    "    print(\"My complexity is still O(n) because I traverse through the entire array one full time!\")\n",
    "    index_left = 0\n",
    "    index_right = len(array)-1 ## we do this because counting of array length starts from 1 but index positions start from 0\n",
    "    while index_right > index_left:\n",
    "        array[index_left] , array[index_right] = array[index_right] , array[index_left] #switching positions\n",
    "        index_left += 1 ## we use \"+=\" to add the element to the right of this sign to the \n",
    "                        ## previous value of the variable to the left of the sign\n",
    "        index_right -= 1\n",
    "    return array"
   ]
  },
  {
   "cell_type": "code",
   "execution_count": 6,
   "id": "d7a32b73",
   "metadata": {},
   "outputs": [
    {
     "name": "stdout",
     "output_type": "stream",
     "text": [
      "My complexity is still O(n) because I traverse through the entire array one full time!\n"
     ]
    },
    {
     "data": {
      "text/plain": [
       "[5, 4, 3, 2, 1]"
      ]
     },
     "execution_count": 6,
     "metadata": {},
     "output_type": "execute_result"
    }
   ],
   "source": [
    "reverse_2([1,2,3,4,5])"
   ]
  },
  {
   "cell_type": "code",
   "execution_count": 19,
   "id": "6d77157c",
   "metadata": {},
   "outputs": [],
   "source": [
    "## Finally, lets try it with a more interesting approach. \n",
    "## We will use a recurring function (a function that calls itself till a certain end case has been satisfied)\n",
    "\n",
    "def reverse_3(array):\n",
    "    length = len(array)\n",
    "    if length == 0:\n",
    "        return array\n",
    "    else:\n",
    "        while length > 0:\n",
    "            length -= 1\n",
    "            return reverse_3(array[1:]) + [array[0]]\n",
    "            \n",
    "## This might be *slightly* more complex to understand. But all we are doing is\n",
    "## create a base case of when the array is 0, and we keep going over the array by adding the first element towards the end"
   ]
  },
  {
   "cell_type": "code",
   "execution_count": 20,
   "id": "c5816871",
   "metadata": {},
   "outputs": [
    {
     "data": {
      "text/plain": [
       "[5, 4, 3, 2, 1]"
      ]
     },
     "execution_count": 20,
     "metadata": {},
     "output_type": "execute_result"
    }
   ],
   "source": [
    "reverse_3([1,2,3,4,5])"
   ]
  },
  {
   "cell_type": "markdown",
   "id": "c52e6580",
   "metadata": {},
   "source": [
    "#### 2. Sliding Window Questions !"
   ]
  },
  {
   "cell_type": "markdown",
   "id": "1b9d0f6c",
   "metadata": {},
   "source": [
    "*i. Given an integer array and a window of size w, find the current maximum value in the window as it slides through the entire array.* \n",
    "\n",
    "\n",
    "\n",
    "Sample input : array --> [-4,2,-5,3,6] window size --> 3\n",
    "\n",
    "\n",
    "Sample output: [2,3,6]"
   ]
  },
  {
   "cell_type": "code",
   "execution_count": 22,
   "id": "4b2e8173",
   "metadata": {},
   "outputs": [],
   "source": [
    "## Let's break down our approach to this problem:\n",
    "## First, I'd create a function hich accepts the given inputs\n",
    "\n",
    "def max_sliding_window(array= list([int()]), window = int()):\n",
    "    \n",
    "    ## then, since we need to find the maximum value for each sub-array of size \"window\", \n",
    "    ## let us define the start and end indices of that window\n",
    "    \n",
    "    start_win = 0\n",
    "    end_win = window-1 \n",
    "    sol = []\n",
    "    \n",
    "    while end_win < len(array):\n",
    "        \n",
    "        current_window = array[start_win:end_win+1] ## current window in consideration\n",
    "        max_element = max(current_window) ## finding the max element using max() function on a python list\n",
    "        \n",
    "        sol.append(max_element)\n",
    "        \n",
    "        start_win += 1\n",
    "        end_win += 1\n",
    "        \n",
    "        \n",
    "    return sol\n",
    "\n",
    "## note that the max element can be found in a better way by defining the max value as the largest one seen so far\n",
    "## and adding it to solutions if it is present in current window"
   ]
  },
  {
   "cell_type": "code",
   "execution_count": 24,
   "id": "b879ba53",
   "metadata": {},
   "outputs": [
    {
     "data": {
      "text/plain": [
       "[2, 3, 6]"
      ]
     },
     "execution_count": 24,
     "metadata": {},
     "output_type": "execute_result"
    }
   ],
   "source": [
    "max_sliding_window([-4,2,-5,3,6], window = 3)"
   ]
  },
  {
   "cell_type": "markdown",
   "id": "1171003c",
   "metadata": {},
   "source": [
    "ii. Given an array where the element at the index i represents the price of a stock on day i, find the maximum profit that you can gain by buying the stock once and then selling it.\n",
    "\n",
    "Sample input: [7,1,5,3,6,4]\n",
    "\n",
    "\n",
    "Sample Output: 5 (buy when price = 1, sell when price = 6)"
   ]
  },
  {
   "cell_type": "code",
   "execution_count": 25,
   "id": "07c04871",
   "metadata": {},
   "outputs": [],
   "source": [
    "def max_profit(stock_prices):\n",
    "    max_dif = 0 ## always set the maximum value to be found initially as its minimum possible value (in this case it is 0 since prices cant be negative)\n",
    "    min_price = float('inf') ## always set a minimum value to be found initially, as infinity\n",
    "\n",
    "    for current in range(len(stock_prices)):\n",
    "\n",
    "        min_price = min(min_price, stock_prices[current])\n",
    "        profit = stock_prices[current] - min_price\n",
    "\n",
    "        if profit >= max_dif:\n",
    "            max_dif=profit\n",
    "        \n",
    "\n",
    "    return max_dif"
   ]
  },
  {
   "cell_type": "code",
   "execution_count": 26,
   "id": "95b2eab4",
   "metadata": {},
   "outputs": [
    {
     "data": {
      "text/plain": [
       "5"
      ]
     },
     "execution_count": 26,
     "metadata": {},
     "output_type": "execute_result"
    }
   ],
   "source": [
    "max_profit([7,1,5,3,6,4])"
   ]
  }
 ],
 "metadata": {
  "kernelspec": {
   "display_name": "Python 3 (ipykernel)",
   "language": "python",
   "name": "python3"
  },
  "language_info": {
   "codemirror_mode": {
    "name": "ipython",
    "version": 3
   },
   "file_extension": ".py",
   "mimetype": "text/x-python",
   "name": "python",
   "nbconvert_exporter": "python",
   "pygments_lexer": "ipython3",
   "version": "3.9.12"
  }
 },
 "nbformat": 4,
 "nbformat_minor": 5
}
